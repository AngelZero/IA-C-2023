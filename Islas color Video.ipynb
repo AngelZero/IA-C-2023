{
 "cells": [
  {
   "cell_type": "code",
   "execution_count": 1,
   "id": "95fdb389",
   "metadata": {},
   "outputs": [],
   "source": [
    "import cv2 as cv\n",
    "import numpy as np"
   ]
  },
  {
   "cell_type": "code",
   "execution_count": 2,
   "id": "86be23e1",
   "metadata": {},
   "outputs": [],
   "source": [
    "def contar_isla(i,j, coor):\n",
    "    isla[i,j]=0\n",
    "    if i<coor[0]:\n",
    "        coor[0]=i\n",
    "    if j<coor[2]:\n",
    "        coor[2]=j\n",
    "    if i>coor[1]:\n",
    "        coor[1]=i\n",
    "    if j>coor[3]:\n",
    "        coor[3]=j\n",
    "    if (j+1)<w and isla[i,j+1]==255:\n",
    "        coor = contar_isla(i,j+1, coor)\n",
    "    if (i+1)<w and isla[i+1,j]==255:\n",
    "        coor = contar_isla(i+1,j, coor)\n",
    "    if (j-1)<w and isla[i,j-1]==255:\n",
    "        coor = contar_isla(i,j-1, coor)\n",
    "    if (i-1)<w and isla[i-1,j]==255:\n",
    "        coor = contar_isla(i-1,j, coor)\n",
    "    return coor\n",
    "        "
   ]
  },
  {
   "cell_type": "code",
   "execution_count": 3,
   "id": "a83ac204",
   "metadata": {},
   "outputs": [
    {
     "ename": "RecursionError",
     "evalue": "maximum recursion depth exceeded in comparison",
     "output_type": "error",
     "traceback": [
      "\u001b[1;31m---------------------------------------------------------------------------\u001b[0m",
      "\u001b[1;31mRecursionError\u001b[0m                            Traceback (most recent call last)",
      "Cell \u001b[1;32mIn[3], line 37\u001b[0m\n\u001b[0;32m     35\u001b[0m \u001b[38;5;28;01mfor\u001b[39;00m j \u001b[38;5;129;01min\u001b[39;00m \u001b[38;5;28mrange\u001b[39m(h):\n\u001b[0;32m     36\u001b[0m     \u001b[38;5;28;01mif\u001b[39;00m isla[i,j]\u001b[38;5;241m!=\u001b[39m\u001b[38;5;241m0\u001b[39m:\n\u001b[1;32m---> 37\u001b[0m         coor\u001b[38;5;241m=\u001b[39mcontar_isla(i,j,[i,i,j,j])\n\u001b[0;32m     38\u001b[0m         resultado\u001b[38;5;241m=\u001b[39mcv\u001b[38;5;241m.\u001b[39mrectangle(resultado,(coor[\u001b[38;5;241m2\u001b[39m]\u001b[38;5;241m-\u001b[39m\u001b[38;5;241m1\u001b[39m,coor[\u001b[38;5;241m0\u001b[39m]\u001b[38;5;241m-\u001b[39m\u001b[38;5;241m1\u001b[39m),(coor[\u001b[38;5;241m3\u001b[39m]\u001b[38;5;241m+\u001b[39m\u001b[38;5;241m1\u001b[39m,coor[\u001b[38;5;241m1\u001b[39m]\u001b[38;5;241m+\u001b[39m\u001b[38;5;241m1\u001b[39m),(\u001b[38;5;241m0\u001b[39m,\u001b[38;5;241m255\u001b[39m,\u001b[38;5;241m0\u001b[39m),\u001b[38;5;241m1\u001b[39m)\n\u001b[0;32m     39\u001b[0m         islas\u001b[38;5;241m=\u001b[39mislas\u001b[38;5;241m+\u001b[39m\u001b[38;5;241m1\u001b[39m\n",
      "Cell \u001b[1;32mIn[2], line 12\u001b[0m, in \u001b[0;36mcontar_isla\u001b[1;34m(i, j, coor)\u001b[0m\n\u001b[0;32m     10\u001b[0m     coor[\u001b[38;5;241m3\u001b[39m]\u001b[38;5;241m=\u001b[39mj\n\u001b[0;32m     11\u001b[0m \u001b[38;5;28;01mif\u001b[39;00m (j\u001b[38;5;241m+\u001b[39m\u001b[38;5;241m1\u001b[39m)\u001b[38;5;241m<\u001b[39mw \u001b[38;5;129;01mand\u001b[39;00m isla[i,j\u001b[38;5;241m+\u001b[39m\u001b[38;5;241m1\u001b[39m]\u001b[38;5;241m==\u001b[39m\u001b[38;5;241m255\u001b[39m:\n\u001b[1;32m---> 12\u001b[0m     coor \u001b[38;5;241m=\u001b[39m contar_isla(i,j\u001b[38;5;241m+\u001b[39m\u001b[38;5;241m1\u001b[39m, coor)\n\u001b[0;32m     13\u001b[0m \u001b[38;5;28;01mif\u001b[39;00m (i\u001b[38;5;241m+\u001b[39m\u001b[38;5;241m1\u001b[39m)\u001b[38;5;241m<\u001b[39mw \u001b[38;5;129;01mand\u001b[39;00m isla[i\u001b[38;5;241m+\u001b[39m\u001b[38;5;241m1\u001b[39m,j]\u001b[38;5;241m==\u001b[39m\u001b[38;5;241m255\u001b[39m:\n\u001b[0;32m     14\u001b[0m     coor \u001b[38;5;241m=\u001b[39m contar_isla(i\u001b[38;5;241m+\u001b[39m\u001b[38;5;241m1\u001b[39m,j, coor)\n",
      "Cell \u001b[1;32mIn[2], line 12\u001b[0m, in \u001b[0;36mcontar_isla\u001b[1;34m(i, j, coor)\u001b[0m\n\u001b[0;32m     10\u001b[0m     coor[\u001b[38;5;241m3\u001b[39m]\u001b[38;5;241m=\u001b[39mj\n\u001b[0;32m     11\u001b[0m \u001b[38;5;28;01mif\u001b[39;00m (j\u001b[38;5;241m+\u001b[39m\u001b[38;5;241m1\u001b[39m)\u001b[38;5;241m<\u001b[39mw \u001b[38;5;129;01mand\u001b[39;00m isla[i,j\u001b[38;5;241m+\u001b[39m\u001b[38;5;241m1\u001b[39m]\u001b[38;5;241m==\u001b[39m\u001b[38;5;241m255\u001b[39m:\n\u001b[1;32m---> 12\u001b[0m     coor \u001b[38;5;241m=\u001b[39m contar_isla(i,j\u001b[38;5;241m+\u001b[39m\u001b[38;5;241m1\u001b[39m, coor)\n\u001b[0;32m     13\u001b[0m \u001b[38;5;28;01mif\u001b[39;00m (i\u001b[38;5;241m+\u001b[39m\u001b[38;5;241m1\u001b[39m)\u001b[38;5;241m<\u001b[39mw \u001b[38;5;129;01mand\u001b[39;00m isla[i\u001b[38;5;241m+\u001b[39m\u001b[38;5;241m1\u001b[39m,j]\u001b[38;5;241m==\u001b[39m\u001b[38;5;241m255\u001b[39m:\n\u001b[0;32m     14\u001b[0m     coor \u001b[38;5;241m=\u001b[39m contar_isla(i\u001b[38;5;241m+\u001b[39m\u001b[38;5;241m1\u001b[39m,j, coor)\n",
      "    \u001b[1;31m[... skipping similar frames: contar_isla at line 12 (2 times)]\u001b[0m\n",
      "Cell \u001b[1;32mIn[2], line 14\u001b[0m, in \u001b[0;36mcontar_isla\u001b[1;34m(i, j, coor)\u001b[0m\n\u001b[0;32m     12\u001b[0m     coor \u001b[38;5;241m=\u001b[39m contar_isla(i,j\u001b[38;5;241m+\u001b[39m\u001b[38;5;241m1\u001b[39m, coor)\n\u001b[0;32m     13\u001b[0m \u001b[38;5;28;01mif\u001b[39;00m (i\u001b[38;5;241m+\u001b[39m\u001b[38;5;241m1\u001b[39m)\u001b[38;5;241m<\u001b[39mw \u001b[38;5;129;01mand\u001b[39;00m isla[i\u001b[38;5;241m+\u001b[39m\u001b[38;5;241m1\u001b[39m,j]\u001b[38;5;241m==\u001b[39m\u001b[38;5;241m255\u001b[39m:\n\u001b[1;32m---> 14\u001b[0m     coor \u001b[38;5;241m=\u001b[39m contar_isla(i\u001b[38;5;241m+\u001b[39m\u001b[38;5;241m1\u001b[39m,j, coor)\n\u001b[0;32m     15\u001b[0m \u001b[38;5;28;01mif\u001b[39;00m (j\u001b[38;5;241m-\u001b[39m\u001b[38;5;241m1\u001b[39m)\u001b[38;5;241m<\u001b[39mw \u001b[38;5;129;01mand\u001b[39;00m isla[i,j\u001b[38;5;241m-\u001b[39m\u001b[38;5;241m1\u001b[39m]\u001b[38;5;241m==\u001b[39m\u001b[38;5;241m255\u001b[39m:\n\u001b[0;32m     16\u001b[0m     coor \u001b[38;5;241m=\u001b[39m contar_isla(i,j\u001b[38;5;241m-\u001b[39m\u001b[38;5;241m1\u001b[39m, coor)\n",
      "    \u001b[1;31m[... skipping similar frames: contar_isla at line 12 (1 times)]\u001b[0m\n",
      "Cell \u001b[1;32mIn[2], line 14\u001b[0m, in \u001b[0;36mcontar_isla\u001b[1;34m(i, j, coor)\u001b[0m\n\u001b[0;32m     12\u001b[0m     coor \u001b[38;5;241m=\u001b[39m contar_isla(i,j\u001b[38;5;241m+\u001b[39m\u001b[38;5;241m1\u001b[39m, coor)\n\u001b[0;32m     13\u001b[0m \u001b[38;5;28;01mif\u001b[39;00m (i\u001b[38;5;241m+\u001b[39m\u001b[38;5;241m1\u001b[39m)\u001b[38;5;241m<\u001b[39mw \u001b[38;5;129;01mand\u001b[39;00m isla[i\u001b[38;5;241m+\u001b[39m\u001b[38;5;241m1\u001b[39m,j]\u001b[38;5;241m==\u001b[39m\u001b[38;5;241m255\u001b[39m:\n\u001b[1;32m---> 14\u001b[0m     coor \u001b[38;5;241m=\u001b[39m contar_isla(i\u001b[38;5;241m+\u001b[39m\u001b[38;5;241m1\u001b[39m,j, coor)\n\u001b[0;32m     15\u001b[0m \u001b[38;5;28;01mif\u001b[39;00m (j\u001b[38;5;241m-\u001b[39m\u001b[38;5;241m1\u001b[39m)\u001b[38;5;241m<\u001b[39mw \u001b[38;5;129;01mand\u001b[39;00m isla[i,j\u001b[38;5;241m-\u001b[39m\u001b[38;5;241m1\u001b[39m]\u001b[38;5;241m==\u001b[39m\u001b[38;5;241m255\u001b[39m:\n\u001b[0;32m     16\u001b[0m     coor \u001b[38;5;241m=\u001b[39m contar_isla(i,j\u001b[38;5;241m-\u001b[39m\u001b[38;5;241m1\u001b[39m, coor)\n",
      "    \u001b[1;31m[... skipping similar frames: contar_isla at line 14 (39 times), contar_isla at line 12 (17 times)]\u001b[0m\n",
      "Cell \u001b[1;32mIn[2], line 16\u001b[0m, in \u001b[0;36mcontar_isla\u001b[1;34m(i, j, coor)\u001b[0m\n\u001b[0;32m     14\u001b[0m     coor \u001b[38;5;241m=\u001b[39m contar_isla(i\u001b[38;5;241m+\u001b[39m\u001b[38;5;241m1\u001b[39m,j, coor)\n\u001b[0;32m     15\u001b[0m \u001b[38;5;28;01mif\u001b[39;00m (j\u001b[38;5;241m-\u001b[39m\u001b[38;5;241m1\u001b[39m)\u001b[38;5;241m<\u001b[39mw \u001b[38;5;129;01mand\u001b[39;00m isla[i,j\u001b[38;5;241m-\u001b[39m\u001b[38;5;241m1\u001b[39m]\u001b[38;5;241m==\u001b[39m\u001b[38;5;241m255\u001b[39m:\n\u001b[1;32m---> 16\u001b[0m     coor \u001b[38;5;241m=\u001b[39m contar_isla(i,j\u001b[38;5;241m-\u001b[39m\u001b[38;5;241m1\u001b[39m, coor)\n\u001b[0;32m     17\u001b[0m \u001b[38;5;28;01mif\u001b[39;00m (i\u001b[38;5;241m-\u001b[39m\u001b[38;5;241m1\u001b[39m)\u001b[38;5;241m<\u001b[39mw \u001b[38;5;129;01mand\u001b[39;00m isla[i\u001b[38;5;241m-\u001b[39m\u001b[38;5;241m1\u001b[39m,j]\u001b[38;5;241m==\u001b[39m\u001b[38;5;241m255\u001b[39m:\n\u001b[0;32m     18\u001b[0m     coor \u001b[38;5;241m=\u001b[39m contar_isla(i\u001b[38;5;241m-\u001b[39m\u001b[38;5;241m1\u001b[39m,j, coor)\n",
      "    \u001b[1;31m[... skipping similar frames: contar_isla at line 14 (2 times)]\u001b[0m\n",
      "Cell \u001b[1;32mIn[2], line 16\u001b[0m, in \u001b[0;36mcontar_isla\u001b[1;34m(i, j, coor)\u001b[0m\n\u001b[0;32m     14\u001b[0m     coor \u001b[38;5;241m=\u001b[39m contar_isla(i\u001b[38;5;241m+\u001b[39m\u001b[38;5;241m1\u001b[39m,j, coor)\n\u001b[0;32m     15\u001b[0m \u001b[38;5;28;01mif\u001b[39;00m (j\u001b[38;5;241m-\u001b[39m\u001b[38;5;241m1\u001b[39m)\u001b[38;5;241m<\u001b[39mw \u001b[38;5;129;01mand\u001b[39;00m isla[i,j\u001b[38;5;241m-\u001b[39m\u001b[38;5;241m1\u001b[39m]\u001b[38;5;241m==\u001b[39m\u001b[38;5;241m255\u001b[39m:\n\u001b[1;32m---> 16\u001b[0m     coor \u001b[38;5;241m=\u001b[39m contar_isla(i,j\u001b[38;5;241m-\u001b[39m\u001b[38;5;241m1\u001b[39m, coor)\n\u001b[0;32m     17\u001b[0m \u001b[38;5;28;01mif\u001b[39;00m (i\u001b[38;5;241m-\u001b[39m\u001b[38;5;241m1\u001b[39m)\u001b[38;5;241m<\u001b[39mw \u001b[38;5;129;01mand\u001b[39;00m isla[i\u001b[38;5;241m-\u001b[39m\u001b[38;5;241m1\u001b[39m,j]\u001b[38;5;241m==\u001b[39m\u001b[38;5;241m255\u001b[39m:\n\u001b[0;32m     18\u001b[0m     coor \u001b[38;5;241m=\u001b[39m contar_isla(i\u001b[38;5;241m-\u001b[39m\u001b[38;5;241m1\u001b[39m,j, coor)\n",
      "    \u001b[1;31m[... skipping similar frames: contar_isla at line 14 (236 times), contar_isla at line 12 (107 times), contar_isla at line 16 (9 times)]\u001b[0m\n",
      "Cell \u001b[1;32mIn[2], line 18\u001b[0m, in \u001b[0;36mcontar_isla\u001b[1;34m(i, j, coor)\u001b[0m\n\u001b[0;32m     16\u001b[0m     coor \u001b[38;5;241m=\u001b[39m contar_isla(i,j\u001b[38;5;241m-\u001b[39m\u001b[38;5;241m1\u001b[39m, coor)\n\u001b[0;32m     17\u001b[0m \u001b[38;5;28;01mif\u001b[39;00m (i\u001b[38;5;241m-\u001b[39m\u001b[38;5;241m1\u001b[39m)\u001b[38;5;241m<\u001b[39mw \u001b[38;5;129;01mand\u001b[39;00m isla[i\u001b[38;5;241m-\u001b[39m\u001b[38;5;241m1\u001b[39m,j]\u001b[38;5;241m==\u001b[39m\u001b[38;5;241m255\u001b[39m:\n\u001b[1;32m---> 18\u001b[0m     coor \u001b[38;5;241m=\u001b[39m contar_isla(i\u001b[38;5;241m-\u001b[39m\u001b[38;5;241m1\u001b[39m,j, coor)\n\u001b[0;32m     19\u001b[0m \u001b[38;5;28;01mreturn\u001b[39;00m coor\n",
      "    \u001b[1;31m[... skipping similar frames: contar_isla at line 12 (1 times)]\u001b[0m\n",
      "Cell \u001b[1;32mIn[2], line 18\u001b[0m, in \u001b[0;36mcontar_isla\u001b[1;34m(i, j, coor)\u001b[0m\n\u001b[0;32m     16\u001b[0m     coor \u001b[38;5;241m=\u001b[39m contar_isla(i,j\u001b[38;5;241m-\u001b[39m\u001b[38;5;241m1\u001b[39m, coor)\n\u001b[0;32m     17\u001b[0m \u001b[38;5;28;01mif\u001b[39;00m (i\u001b[38;5;241m-\u001b[39m\u001b[38;5;241m1\u001b[39m)\u001b[38;5;241m<\u001b[39mw \u001b[38;5;129;01mand\u001b[39;00m isla[i\u001b[38;5;241m-\u001b[39m\u001b[38;5;241m1\u001b[39m,j]\u001b[38;5;241m==\u001b[39m\u001b[38;5;241m255\u001b[39m:\n\u001b[1;32m---> 18\u001b[0m     coor \u001b[38;5;241m=\u001b[39m contar_isla(i\u001b[38;5;241m-\u001b[39m\u001b[38;5;241m1\u001b[39m,j, coor)\n\u001b[0;32m     19\u001b[0m \u001b[38;5;28;01mreturn\u001b[39;00m coor\n",
      "    \u001b[1;31m[... skipping similar frames: contar_isla at line 16 (1037 times), contar_isla at line 12 (991 times), contar_isla at line 18 (309 times), contar_isla at line 14 (190 times)]\u001b[0m\n",
      "Cell \u001b[1;32mIn[2], line 12\u001b[0m, in \u001b[0;36mcontar_isla\u001b[1;34m(i, j, coor)\u001b[0m\n\u001b[0;32m     10\u001b[0m     coor[\u001b[38;5;241m3\u001b[39m]\u001b[38;5;241m=\u001b[39mj\n\u001b[0;32m     11\u001b[0m \u001b[38;5;28;01mif\u001b[39;00m (j\u001b[38;5;241m+\u001b[39m\u001b[38;5;241m1\u001b[39m)\u001b[38;5;241m<\u001b[39mw \u001b[38;5;129;01mand\u001b[39;00m isla[i,j\u001b[38;5;241m+\u001b[39m\u001b[38;5;241m1\u001b[39m]\u001b[38;5;241m==\u001b[39m\u001b[38;5;241m255\u001b[39m:\n\u001b[1;32m---> 12\u001b[0m     coor \u001b[38;5;241m=\u001b[39m contar_isla(i,j\u001b[38;5;241m+\u001b[39m\u001b[38;5;241m1\u001b[39m, coor)\n\u001b[0;32m     13\u001b[0m \u001b[38;5;28;01mif\u001b[39;00m (i\u001b[38;5;241m+\u001b[39m\u001b[38;5;241m1\u001b[39m)\u001b[38;5;241m<\u001b[39mw \u001b[38;5;129;01mand\u001b[39;00m isla[i\u001b[38;5;241m+\u001b[39m\u001b[38;5;241m1\u001b[39m,j]\u001b[38;5;241m==\u001b[39m\u001b[38;5;241m255\u001b[39m:\n\u001b[0;32m     14\u001b[0m     coor \u001b[38;5;241m=\u001b[39m contar_isla(i\u001b[38;5;241m+\u001b[39m\u001b[38;5;241m1\u001b[39m,j, coor)\n",
      "Cell \u001b[1;32mIn[2], line 18\u001b[0m, in \u001b[0;36mcontar_isla\u001b[1;34m(i, j, coor)\u001b[0m\n\u001b[0;32m     16\u001b[0m     coor \u001b[38;5;241m=\u001b[39m contar_isla(i,j\u001b[38;5;241m-\u001b[39m\u001b[38;5;241m1\u001b[39m, coor)\n\u001b[0;32m     17\u001b[0m \u001b[38;5;28;01mif\u001b[39;00m (i\u001b[38;5;241m-\u001b[39m\u001b[38;5;241m1\u001b[39m)\u001b[38;5;241m<\u001b[39mw \u001b[38;5;129;01mand\u001b[39;00m isla[i\u001b[38;5;241m-\u001b[39m\u001b[38;5;241m1\u001b[39m,j]\u001b[38;5;241m==\u001b[39m\u001b[38;5;241m255\u001b[39m:\n\u001b[1;32m---> 18\u001b[0m     coor \u001b[38;5;241m=\u001b[39m contar_isla(i\u001b[38;5;241m-\u001b[39m\u001b[38;5;241m1\u001b[39m,j, coor)\n\u001b[0;32m     19\u001b[0m \u001b[38;5;28;01mreturn\u001b[39;00m coor\n",
      "    \u001b[1;31m[... skipping similar frames: contar_isla at line 16 (11 times), contar_isla at line 14 (1 times)]\u001b[0m\n",
      "Cell \u001b[1;32mIn[2], line 14\u001b[0m, in \u001b[0;36mcontar_isla\u001b[1;34m(i, j, coor)\u001b[0m\n\u001b[0;32m     12\u001b[0m     coor \u001b[38;5;241m=\u001b[39m contar_isla(i,j\u001b[38;5;241m+\u001b[39m\u001b[38;5;241m1\u001b[39m, coor)\n\u001b[0;32m     13\u001b[0m \u001b[38;5;28;01mif\u001b[39;00m (i\u001b[38;5;241m+\u001b[39m\u001b[38;5;241m1\u001b[39m)\u001b[38;5;241m<\u001b[39mw \u001b[38;5;129;01mand\u001b[39;00m isla[i\u001b[38;5;241m+\u001b[39m\u001b[38;5;241m1\u001b[39m,j]\u001b[38;5;241m==\u001b[39m\u001b[38;5;241m255\u001b[39m:\n\u001b[1;32m---> 14\u001b[0m     coor \u001b[38;5;241m=\u001b[39m contar_isla(i\u001b[38;5;241m+\u001b[39m\u001b[38;5;241m1\u001b[39m,j, coor)\n\u001b[0;32m     15\u001b[0m \u001b[38;5;28;01mif\u001b[39;00m (j\u001b[38;5;241m-\u001b[39m\u001b[38;5;241m1\u001b[39m)\u001b[38;5;241m<\u001b[39mw \u001b[38;5;129;01mand\u001b[39;00m isla[i,j\u001b[38;5;241m-\u001b[39m\u001b[38;5;241m1\u001b[39m]\u001b[38;5;241m==\u001b[39m\u001b[38;5;241m255\u001b[39m:\n\u001b[0;32m     16\u001b[0m     coor \u001b[38;5;241m=\u001b[39m contar_isla(i,j\u001b[38;5;241m-\u001b[39m\u001b[38;5;241m1\u001b[39m, coor)\n",
      "    \u001b[1;31m[... skipping similar frames: contar_isla at line 16 (6 times)]\u001b[0m\n",
      "Cell \u001b[1;32mIn[2], line 16\u001b[0m, in \u001b[0;36mcontar_isla\u001b[1;34m(i, j, coor)\u001b[0m\n\u001b[0;32m     14\u001b[0m     coor \u001b[38;5;241m=\u001b[39m contar_isla(i\u001b[38;5;241m+\u001b[39m\u001b[38;5;241m1\u001b[39m,j, coor)\n\u001b[0;32m     15\u001b[0m \u001b[38;5;28;01mif\u001b[39;00m (j\u001b[38;5;241m-\u001b[39m\u001b[38;5;241m1\u001b[39m)\u001b[38;5;241m<\u001b[39mw \u001b[38;5;129;01mand\u001b[39;00m isla[i,j\u001b[38;5;241m-\u001b[39m\u001b[38;5;241m1\u001b[39m]\u001b[38;5;241m==\u001b[39m\u001b[38;5;241m255\u001b[39m:\n\u001b[1;32m---> 16\u001b[0m     coor \u001b[38;5;241m=\u001b[39m contar_isla(i,j\u001b[38;5;241m-\u001b[39m\u001b[38;5;241m1\u001b[39m, coor)\n\u001b[0;32m     17\u001b[0m \u001b[38;5;28;01mif\u001b[39;00m (i\u001b[38;5;241m-\u001b[39m\u001b[38;5;241m1\u001b[39m)\u001b[38;5;241m<\u001b[39mw \u001b[38;5;129;01mand\u001b[39;00m isla[i\u001b[38;5;241m-\u001b[39m\u001b[38;5;241m1\u001b[39m,j]\u001b[38;5;241m==\u001b[39m\u001b[38;5;241m255\u001b[39m:\n\u001b[0;32m     18\u001b[0m     coor \u001b[38;5;241m=\u001b[39m contar_isla(i\u001b[38;5;241m-\u001b[39m\u001b[38;5;241m1\u001b[39m,j, coor)\n",
      "Cell \u001b[1;32mIn[2], line 11\u001b[0m, in \u001b[0;36mcontar_isla\u001b[1;34m(i, j, coor)\u001b[0m\n\u001b[0;32m      9\u001b[0m \u001b[38;5;28;01mif\u001b[39;00m j\u001b[38;5;241m>\u001b[39mcoor[\u001b[38;5;241m3\u001b[39m]:\n\u001b[0;32m     10\u001b[0m     coor[\u001b[38;5;241m3\u001b[39m]\u001b[38;5;241m=\u001b[39mj\n\u001b[1;32m---> 11\u001b[0m \u001b[38;5;28;01mif\u001b[39;00m (j\u001b[38;5;241m+\u001b[39m\u001b[38;5;241m1\u001b[39m)\u001b[38;5;241m<\u001b[39mw \u001b[38;5;129;01mand\u001b[39;00m isla[i,j\u001b[38;5;241m+\u001b[39m\u001b[38;5;241m1\u001b[39m]\u001b[38;5;241m==\u001b[39m\u001b[38;5;241m255\u001b[39m:\n\u001b[0;32m     12\u001b[0m     coor \u001b[38;5;241m=\u001b[39m contar_isla(i,j\u001b[38;5;241m+\u001b[39m\u001b[38;5;241m1\u001b[39m, coor)\n\u001b[0;32m     13\u001b[0m \u001b[38;5;28;01mif\u001b[39;00m (i\u001b[38;5;241m+\u001b[39m\u001b[38;5;241m1\u001b[39m)\u001b[38;5;241m<\u001b[39mw \u001b[38;5;129;01mand\u001b[39;00m isla[i\u001b[38;5;241m+\u001b[39m\u001b[38;5;241m1\u001b[39m,j]\u001b[38;5;241m==\u001b[39m\u001b[38;5;241m255\u001b[39m:\n",
      "\u001b[1;31mRecursionError\u001b[0m: maximum recursion depth exceeded in comparison"
     ]
    }
   ],
   "source": [
    "#05/09/23 Capturar Color En Video \n",
    "cap = cv.VideoCapture(0)\n",
    "\n",
    "if not cap.isOpened():\n",
    "    print(\"No se puede aperturar la camara\")\n",
    "    exit()\n",
    "    \n",
    "while True:\n",
    "    ret, img = cap.read()\n",
    "    \n",
    "    imgRGB = cv.cvtColor(img, cv.COLOR_BGR2RGB) #cambia modelo de color\n",
    "    imgHSV = cv.cvtColor(imgRGB, cv.COLOR_RGB2HSV)\n",
    "\n",
    "    #Rojo\n",
    "    umbralBRojo=(0,145,90)\n",
    "    umbralARojo=(6,255,255)\n",
    "    umbralBRojo2=(170,120,110)\n",
    "    umbralARojo2=(180,255,255)\n",
    "\n",
    "    #Amarillo\n",
    "    umbralBAmarillo=(21,110,110)\n",
    "    umbralAAmarillo=(32,255,255)\n",
    "\n",
    "    mascara1=cv.inRange(imgHSV,umbralBRojo,umbralARojo)#Solamente Tomar los elementos de la imagen que esten comprendidos entre el rango de color que acabo de probar.\n",
    "    mascara2=cv.inRange(imgHSV,umbralBRojo2,umbralARojo2)\n",
    "    mascara3=cv.inRange(imgHSV,umbralBAmarillo,umbralAAmarillo)\n",
    "\n",
    "    mascaraDef=mascara1+mascara2+mascara3\n",
    "    isla=mascaraDef.copy()\n",
    "    resultado = cv.bitwise_and(img, img, mask=mascaraDef)\n",
    "    \n",
    "    w,h = isla.shape\n",
    "    islas=0\n",
    "    for i in range(w):\n",
    "        for j in range(h):\n",
    "            if isla[i,j]!=0:\n",
    "                coor=contar_isla(i,j,[i,i,j,j])\n",
    "                resultado=cv.rectangle(resultado,(coor[2]-1,coor[0]-1),(coor[3]+1,coor[1]+1),(0,255,0),1)\n",
    "                islas=islas+1\n",
    "    \n",
    "    cv.imshow('frame',resultado)\n",
    "    if cv.waitKey(80)==ord('q'):\n",
    "        break\n",
    "cap.release()\n",
    "cv.destroyAllWindows()"
   ]
  },
  {
   "cell_type": "code",
   "execution_count": null,
   "id": "9c56b422",
   "metadata": {},
   "outputs": [],
   "source": []
  }
 ],
 "metadata": {
  "kernelspec": {
   "display_name": "Python 3 (ipykernel)",
   "language": "python",
   "name": "python3"
  },
  "language_info": {
   "codemirror_mode": {
    "name": "ipython",
    "version": 3
   },
   "file_extension": ".py",
   "mimetype": "text/x-python",
   "name": "python",
   "nbconvert_exporter": "python",
   "pygments_lexer": "ipython3",
   "version": "3.11.4"
  }
 },
 "nbformat": 4,
 "nbformat_minor": 5
}
